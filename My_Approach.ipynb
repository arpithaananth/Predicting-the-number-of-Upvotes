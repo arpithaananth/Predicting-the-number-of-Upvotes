{
 "cells": [
  {
   "cell_type": "markdown",
   "metadata": {
    "colab_type": "text",
    "id": "zJZZjNVY5S45"
   },
   "source": [
    "# Upvote Dataset \n",
    "To predict the number of upvotes a post on social media can get"
   ]
  },
  {
   "cell_type": "markdown",
   "metadata": {},
   "source": [
    "## Importing the required libraries"
   ]
  },
  {
   "cell_type": "code",
   "execution_count": 53,
   "metadata": {
    "colab": {},
    "colab_type": "code",
    "id": "nB-AegBn5i_s"
   },
   "outputs": [],
   "source": [
    "import pandas as pd\n",
    "import numpy as np\n",
    "import seaborn as sns\n",
    "import matplotlib.pyplot as plt\n",
    "from sklearn.model_selection import train_test_split\n",
    "from sklearn.linear_model import LinearRegression\n",
    "from sklearn.metrics import r2_score, mean_squared_error\n",
    "from sklearn.linear_model import Ridge, Lasso\n",
    "from sklearn.metrics import accuracy_score\n",
    "from sklearn.ensemble import RandomForestRegressor\n",
    "from sklearn.ensemble import AdaBoostRegressor\n",
    "from sklearn.ensemble import BaggingRegressor\n",
    "from sklearn.linear_model import BayesianRidge, HuberRegressor"
   ]
  },
  {
   "cell_type": "code",
   "execution_count": 54,
   "metadata": {
    "colab": {},
    "colab_type": "code",
    "id": "XqMpWHTa6EtD"
   },
   "outputs": [],
   "source": [
    "data= pd.read_csv(\"train_NIR5Yl1.csv\")"
   ]
  },
  {
   "cell_type": "code",
   "execution_count": 55,
   "metadata": {
    "colab": {
     "base_uri": "https://localhost:8080/",
     "height": 199
    },
    "colab_type": "code",
    "id": "GLhKXuWs7bnb",
    "outputId": "d33ef94c-6ec6-4eb1-9dea-c0adbfec2e74"
   },
   "outputs": [
    {
     "data": {
      "text/html": [
       "<div>\n",
       "<style scoped>\n",
       "    .dataframe tbody tr th:only-of-type {\n",
       "        vertical-align: middle;\n",
       "    }\n",
       "\n",
       "    .dataframe tbody tr th {\n",
       "        vertical-align: top;\n",
       "    }\n",
       "\n",
       "    .dataframe thead th {\n",
       "        text-align: right;\n",
       "    }\n",
       "</style>\n",
       "<table border=\"1\" class=\"dataframe\">\n",
       "  <thead>\n",
       "    <tr style=\"text-align: right;\">\n",
       "      <th></th>\n",
       "      <th>ID</th>\n",
       "      <th>Tag</th>\n",
       "      <th>Reputation</th>\n",
       "      <th>Answers</th>\n",
       "      <th>Username</th>\n",
       "      <th>Views</th>\n",
       "      <th>Upvotes</th>\n",
       "    </tr>\n",
       "  </thead>\n",
       "  <tbody>\n",
       "    <tr>\n",
       "      <th>0</th>\n",
       "      <td>52664</td>\n",
       "      <td>a</td>\n",
       "      <td>3942.0</td>\n",
       "      <td>2.0</td>\n",
       "      <td>155623</td>\n",
       "      <td>7855.0</td>\n",
       "      <td>42.0</td>\n",
       "    </tr>\n",
       "    <tr>\n",
       "      <th>1</th>\n",
       "      <td>327662</td>\n",
       "      <td>a</td>\n",
       "      <td>26046.0</td>\n",
       "      <td>12.0</td>\n",
       "      <td>21781</td>\n",
       "      <td>55801.0</td>\n",
       "      <td>1175.0</td>\n",
       "    </tr>\n",
       "    <tr>\n",
       "      <th>2</th>\n",
       "      <td>468453</td>\n",
       "      <td>c</td>\n",
       "      <td>1358.0</td>\n",
       "      <td>4.0</td>\n",
       "      <td>56177</td>\n",
       "      <td>8067.0</td>\n",
       "      <td>60.0</td>\n",
       "    </tr>\n",
       "    <tr>\n",
       "      <th>3</th>\n",
       "      <td>96996</td>\n",
       "      <td>a</td>\n",
       "      <td>264.0</td>\n",
       "      <td>3.0</td>\n",
       "      <td>168793</td>\n",
       "      <td>27064.0</td>\n",
       "      <td>9.0</td>\n",
       "    </tr>\n",
       "    <tr>\n",
       "      <th>4</th>\n",
       "      <td>131465</td>\n",
       "      <td>c</td>\n",
       "      <td>4271.0</td>\n",
       "      <td>4.0</td>\n",
       "      <td>112223</td>\n",
       "      <td>13986.0</td>\n",
       "      <td>83.0</td>\n",
       "    </tr>\n",
       "  </tbody>\n",
       "</table>\n",
       "</div>"
      ],
      "text/plain": [
       "       ID Tag  Reputation  Answers  Username    Views  Upvotes\n",
       "0   52664   a      3942.0      2.0    155623   7855.0     42.0\n",
       "1  327662   a     26046.0     12.0     21781  55801.0   1175.0\n",
       "2  468453   c      1358.0      4.0     56177   8067.0     60.0\n",
       "3   96996   a       264.0      3.0    168793  27064.0      9.0\n",
       "4  131465   c      4271.0      4.0    112223  13986.0     83.0"
      ]
     },
     "execution_count": 55,
     "metadata": {},
     "output_type": "execute_result"
    }
   ],
   "source": [
    "data.head()"
   ]
  },
  {
   "cell_type": "code",
   "execution_count": 56,
   "metadata": {
    "colab": {
     "base_uri": "https://localhost:8080/",
     "height": 35
    },
    "colab_type": "code",
    "id": "7w4QadrU7jJh",
    "outputId": "c4b994a3-e2c5-4d35-fd0e-53ab7493cac6"
   },
   "outputs": [
    {
     "data": {
      "text/plain": [
       "(330045, 7)"
      ]
     },
     "execution_count": 56,
     "metadata": {},
     "output_type": "execute_result"
    }
   ],
   "source": [
    "data.shape"
   ]
  },
  {
   "cell_type": "code",
   "execution_count": 57,
   "metadata": {
    "colab": {
     "base_uri": "https://localhost:8080/",
     "height": 230
    },
    "colab_type": "code",
    "id": "eDhn-VbU7ulY",
    "outputId": "7987e47f-b1d2-40d4-db25-8b0425aa19a6"
   },
   "outputs": [
    {
     "name": "stdout",
     "output_type": "stream",
     "text": [
      "<class 'pandas.core.frame.DataFrame'>\n",
      "RangeIndex: 330045 entries, 0 to 330044\n",
      "Data columns (total 7 columns):\n",
      "ID            330045 non-null int64\n",
      "Tag           330045 non-null object\n",
      "Reputation    330045 non-null float64\n",
      "Answers       330045 non-null float64\n",
      "Username      330045 non-null int64\n",
      "Views         330045 non-null float64\n",
      "Upvotes       330045 non-null float64\n",
      "dtypes: float64(4), int64(2), object(1)\n",
      "memory usage: 17.6+ MB\n"
     ]
    }
   ],
   "source": [
    "data.info()"
   ]
  },
  {
   "cell_type": "markdown",
   "metadata": {
    "colab_type": "text",
    "id": "8Ww3Ir8o75ON"
   },
   "source": [
    "# Checking for Null Values"
   ]
  },
  {
   "cell_type": "code",
   "execution_count": 58,
   "metadata": {
    "colab": {
     "base_uri": "https://localhost:8080/",
     "height": 35
    },
    "colab_type": "code",
    "id": "_UKHGeHG77fk",
    "outputId": "548f85aa-6d7d-4cee-f166-f82974396a8e"
   },
   "outputs": [
    {
     "data": {
      "text/plain": [
       "Series([], dtype: int64)"
      ]
     },
     "execution_count": 58,
     "metadata": {},
     "output_type": "execute_result"
    }
   ],
   "source": [
    "find_null= pd.isnull(data).sum()\n",
    "find_null[find_null>0]"
   ]
  },
  {
   "cell_type": "markdown",
   "metadata": {
    "colab_type": "text",
    "id": "AeepYRbr8hxd"
   },
   "source": [
    "# Dropping the ID *Column*"
   ]
  },
  {
   "cell_type": "code",
   "execution_count": 59,
   "metadata": {
    "colab": {},
    "colab_type": "code",
    "id": "iClJvCjI8iql"
   },
   "outputs": [],
   "source": [
    "data.drop(['ID'],axis=1,inplace=True)"
   ]
  },
  {
   "cell_type": "markdown",
   "metadata": {
    "colab_type": "text",
    "id": "yBX-QA219poQ"
   },
   "source": [
    "# Checking the Skewness"
   ]
  },
  {
   "cell_type": "code",
   "execution_count": 60,
   "metadata": {
    "colab": {
     "base_uri": "https://localhost:8080/",
     "height": 123
    },
    "colab_type": "code",
    "id": "0PFq0qgw9-ka",
    "outputId": "ab6ff4bb-e47b-4858-f459-f7f401e0af6d"
   },
   "outputs": [
    {
     "data": {
      "text/plain": [
       "Reputation    11.230027\n",
       "Answers        3.380169\n",
       "Username       0.142088\n",
       "Views         14.370704\n",
       "Upvotes       74.249689\n",
       "dtype: float64"
      ]
     },
     "execution_count": 60,
     "metadata": {},
     "output_type": "execute_result"
    }
   ],
   "source": [
    "data.skew()"
   ]
  },
  {
   "cell_type": "markdown",
   "metadata": {
    "colab_type": "text",
    "id": "pWyVmtxeATgQ"
   },
   "source": [
    "# Dropping the Username Column"
   ]
  },
  {
   "cell_type": "code",
   "execution_count": 61,
   "metadata": {
    "colab": {},
    "colab_type": "code",
    "id": "XM4YS3tyAXSr"
   },
   "outputs": [],
   "source": [
    "data.drop(['Username'],axis=1,inplace=True)"
   ]
  },
  {
   "cell_type": "markdown",
   "metadata": {
    "colab_type": "text",
    "id": "Jflf7Z6jAem8"
   },
   "source": [
    "# Rectifying the Skewness"
   ]
  },
  {
   "cell_type": "code",
   "execution_count": 62,
   "metadata": {
    "colab": {},
    "colab_type": "code",
    "id": "odsslEBCFmnp"
   },
   "outputs": [],
   "source": [
    "data['Reputation']=(data['Reputation'])**(1/3)"
   ]
  },
  {
   "cell_type": "code",
   "execution_count": 63,
   "metadata": {
    "colab": {
     "base_uri": "https://localhost:8080/",
     "height": 35
    },
    "colab_type": "code",
    "id": "WXQgpdiwGDCB",
    "outputId": "2d4b7a7b-3e06-4861-966f-7613731052fc"
   },
   "outputs": [
    {
     "data": {
      "text/plain": [
       "1.8508763961694898"
      ]
     },
     "execution_count": 63,
     "metadata": {},
     "output_type": "execute_result"
    }
   ],
   "source": [
    "data['Reputation'].skew()"
   ]
  },
  {
   "cell_type": "code",
   "execution_count": 64,
   "metadata": {
    "colab": {},
    "colab_type": "code",
    "id": "cQK4mUz_GGlD"
   },
   "outputs": [],
   "source": [
    "data['Answers']=(data['Answers'])**(1/3)"
   ]
  },
  {
   "cell_type": "code",
   "execution_count": 65,
   "metadata": {
    "colab": {
     "base_uri": "https://localhost:8080/",
     "height": 35
    },
    "colab_type": "code",
    "id": "A4wF1au-GTX6",
    "outputId": "2e204ed5-bb3f-40f8-b07e-d0793fdfee66"
   },
   "outputs": [
    {
     "data": {
      "text/plain": [
       "0.5424660030490057"
      ]
     },
     "execution_count": 65,
     "metadata": {},
     "output_type": "execute_result"
    }
   ],
   "source": [
    "data['Answers'].skew()"
   ]
  },
  {
   "cell_type": "code",
   "execution_count": 66,
   "metadata": {
    "colab": {},
    "colab_type": "code",
    "id": "vddxMHAgGXZz"
   },
   "outputs": [],
   "source": [
    "data['Views']=(data['Views'])**(1/3)"
   ]
  },
  {
   "cell_type": "code",
   "execution_count": 67,
   "metadata": {
    "colab": {
     "base_uri": "https://localhost:8080/",
     "height": 35
    },
    "colab_type": "code",
    "id": "ebR6d1deHIgL",
    "outputId": "e70c6b90-d6a9-457c-9dde-c2f0070fa7f6"
   },
   "outputs": [
    {
     "data": {
      "text/plain": [
       "1.501734709364565"
      ]
     },
     "execution_count": 67,
     "metadata": {},
     "output_type": "execute_result"
    }
   ],
   "source": [
    "data['Views'].skew()"
   ]
  },
  {
   "cell_type": "markdown",
   "metadata": {},
   "source": [
    "## Checking Correlation between Features"
   ]
  },
  {
   "cell_type": "code",
   "execution_count": 68,
   "metadata": {},
   "outputs": [
    {
     "data": {
      "text/html": [
       "<div>\n",
       "<style scoped>\n",
       "    .dataframe tbody tr th:only-of-type {\n",
       "        vertical-align: middle;\n",
       "    }\n",
       "\n",
       "    .dataframe tbody tr th {\n",
       "        vertical-align: top;\n",
       "    }\n",
       "\n",
       "    .dataframe thead th {\n",
       "        text-align: right;\n",
       "    }\n",
       "</style>\n",
       "<table border=\"1\" class=\"dataframe\">\n",
       "  <thead>\n",
       "    <tr style=\"text-align: right;\">\n",
       "      <th></th>\n",
       "      <th>Reputation</th>\n",
       "      <th>Answers</th>\n",
       "      <th>Views</th>\n",
       "      <th>Upvotes</th>\n",
       "    </tr>\n",
       "  </thead>\n",
       "  <tbody>\n",
       "    <tr>\n",
       "      <th>Reputation</th>\n",
       "      <td>1.000000</td>\n",
       "      <td>0.165482</td>\n",
       "      <td>0.136000</td>\n",
       "      <td>0.217233</td>\n",
       "    </tr>\n",
       "    <tr>\n",
       "      <th>Answers</th>\n",
       "      <td>0.165482</td>\n",
       "      <td>1.000000</td>\n",
       "      <td>0.590185</td>\n",
       "      <td>0.148472</td>\n",
       "    </tr>\n",
       "    <tr>\n",
       "      <th>Views</th>\n",
       "      <td>0.136000</td>\n",
       "      <td>0.590185</td>\n",
       "      <td>1.000000</td>\n",
       "      <td>0.245422</td>\n",
       "    </tr>\n",
       "    <tr>\n",
       "      <th>Upvotes</th>\n",
       "      <td>0.217233</td>\n",
       "      <td>0.148472</td>\n",
       "      <td>0.245422</td>\n",
       "      <td>1.000000</td>\n",
       "    </tr>\n",
       "  </tbody>\n",
       "</table>\n",
       "</div>"
      ],
      "text/plain": [
       "            Reputation   Answers     Views   Upvotes\n",
       "Reputation    1.000000  0.165482  0.136000  0.217233\n",
       "Answers       0.165482  1.000000  0.590185  0.148472\n",
       "Views         0.136000  0.590185  1.000000  0.245422\n",
       "Upvotes       0.217233  0.148472  0.245422  1.000000"
      ]
     },
     "execution_count": 68,
     "metadata": {},
     "output_type": "execute_result"
    }
   ],
   "source": [
    "Matrix= data.corr()\n",
    "Matrix"
   ]
  },
  {
   "cell_type": "code",
   "execution_count": 69,
   "metadata": {},
   "outputs": [
    {
     "data": {
      "text/plain": [
       "<matplotlib.axes._subplots.AxesSubplot at 0x1a4a2595d30>"
      ]
     },
     "execution_count": 69,
     "metadata": {},
     "output_type": "execute_result"
    },
    {
     "data": {
      "image/png": "[encoded data removed]",
      "text/plain": [
       "<Figure size 720x432 with 2 Axes>"
      ]
     },
     "metadata": {
      "needs_background": "light"
     },
     "output_type": "display_data"
    }
   ],
   "source": [
    "plt.figure(figsize=(10,6))\n",
    "sns.heatmap(Matrix,annot=True,cmap=\"YlGnBu\")"
   ]
  },
  {
   "cell_type": "markdown",
   "metadata": {
    "colab_type": "text",
    "id": "XE9vWII1H1pK"
   },
   "source": [
    "# Converting Categorical to Numerical Data"
   ]
  },
  {
   "cell_type": "code",
   "execution_count": 70,
   "metadata": {
    "colab": {
     "base_uri": "https://localhost:8080/",
     "height": 199
    },
    "colab_type": "code",
    "id": "euAj_MPgItXB",
    "outputId": "719296a8-3c87-45d9-9c68-4934146b5979"
   },
   "outputs": [
    {
     "data": {
      "text/html": [
       "<div>\n",
       "<style scoped>\n",
       "    .dataframe tbody tr th:only-of-type {\n",
       "        vertical-align: middle;\n",
       "    }\n",
       "\n",
       "    .dataframe tbody tr th {\n",
       "        vertical-align: top;\n",
       "    }\n",
       "\n",
       "    .dataframe thead th {\n",
       "        text-align: right;\n",
       "    }\n",
       "</style>\n",
       "<table border=\"1\" class=\"dataframe\">\n",
       "  <thead>\n",
       "    <tr style=\"text-align: right;\">\n",
       "      <th></th>\n",
       "      <th>Reputation</th>\n",
       "      <th>Answers</th>\n",
       "      <th>Views</th>\n",
       "      <th>Upvotes</th>\n",
       "      <th>Tag_a</th>\n",
       "      <th>Tag_c</th>\n",
       "      <th>Tag_h</th>\n",
       "      <th>Tag_i</th>\n",
       "      <th>Tag_j</th>\n",
       "      <th>Tag_o</th>\n",
       "      <th>Tag_p</th>\n",
       "      <th>Tag_r</th>\n",
       "      <th>Tag_s</th>\n",
       "      <th>Tag_x</th>\n",
       "    </tr>\n",
       "  </thead>\n",
       "  <tbody>\n",
       "    <tr>\n",
       "      <th>0</th>\n",
       "      <td>15.796912</td>\n",
       "      <td>1.259921</td>\n",
       "      <td>19.878429</td>\n",
       "      <td>42.0</td>\n",
       "      <td>1</td>\n",
       "      <td>0</td>\n",
       "      <td>0</td>\n",
       "      <td>0</td>\n",
       "      <td>0</td>\n",
       "      <td>0</td>\n",
       "      <td>0</td>\n",
       "      <td>0</td>\n",
       "      <td>0</td>\n",
       "      <td>0</td>\n",
       "    </tr>\n",
       "    <tr>\n",
       "      <th>1</th>\n",
       "      <td>29.642422</td>\n",
       "      <td>2.289428</td>\n",
       "      <td>38.213252</td>\n",
       "      <td>1175.0</td>\n",
       "      <td>1</td>\n",
       "      <td>0</td>\n",
       "      <td>0</td>\n",
       "      <td>0</td>\n",
       "      <td>0</td>\n",
       "      <td>0</td>\n",
       "      <td>0</td>\n",
       "      <td>0</td>\n",
       "      <td>0</td>\n",
       "      <td>0</td>\n",
       "    </tr>\n",
       "    <tr>\n",
       "      <th>2</th>\n",
       "      <td>11.073883</td>\n",
       "      <td>1.587401</td>\n",
       "      <td>20.055678</td>\n",
       "      <td>60.0</td>\n",
       "      <td>0</td>\n",
       "      <td>1</td>\n",
       "      <td>0</td>\n",
       "      <td>0</td>\n",
       "      <td>0</td>\n",
       "      <td>0</td>\n",
       "      <td>0</td>\n",
       "      <td>0</td>\n",
       "      <td>0</td>\n",
       "      <td>0</td>\n",
       "    </tr>\n",
       "    <tr>\n",
       "      <th>3</th>\n",
       "      <td>6.415069</td>\n",
       "      <td>1.442250</td>\n",
       "      <td>30.023685</td>\n",
       "      <td>9.0</td>\n",
       "      <td>1</td>\n",
       "      <td>0</td>\n",
       "      <td>0</td>\n",
       "      <td>0</td>\n",
       "      <td>0</td>\n",
       "      <td>0</td>\n",
       "      <td>0</td>\n",
       "      <td>0</td>\n",
       "      <td>0</td>\n",
       "      <td>0</td>\n",
       "    </tr>\n",
       "    <tr>\n",
       "      <th>4</th>\n",
       "      <td>16.224694</td>\n",
       "      <td>1.587401</td>\n",
       "      <td>24.093386</td>\n",
       "      <td>83.0</td>\n",
       "      <td>0</td>\n",
       "      <td>1</td>\n",
       "      <td>0</td>\n",
       "      <td>0</td>\n",
       "      <td>0</td>\n",
       "      <td>0</td>\n",
       "      <td>0</td>\n",
       "      <td>0</td>\n",
       "      <td>0</td>\n",
       "      <td>0</td>\n",
       "    </tr>\n",
       "  </tbody>\n",
       "</table>\n",
       "</div>"
      ],
      "text/plain": [
       "   Reputation   Answers      Views  Upvotes  Tag_a  Tag_c  Tag_h  Tag_i  \\\n",
       "0   15.796912  1.259921  19.878429     42.0      1      0      0      0   \n",
       "1   29.642422  2.289428  38.213252   1175.0      1      0      0      0   \n",
       "2   11.073883  1.587401  20.055678     60.0      0      1      0      0   \n",
       "3    6.415069  1.442250  30.023685      9.0      1      0      0      0   \n",
       "4   16.224694  1.587401  24.093386     83.0      0      1      0      0   \n",
       "\n",
       "   Tag_j  Tag_o  Tag_p  Tag_r  Tag_s  Tag_x  \n",
       "0      0      0      0      0      0      0  \n",
       "1      0      0      0      0      0      0  \n",
       "2      0      0      0      0      0      0  \n",
       "3      0      0      0      0      0      0  \n",
       "4      0      0      0      0      0      0  "
      ]
     },
     "execution_count": 70,
     "metadata": {},
     "output_type": "execute_result"
    }
   ],
   "source": [
    "data= pd.get_dummies(data)\n",
    "data.head()"
   ]
  },
  {
   "cell_type": "code",
   "execution_count": 71,
   "metadata": {},
   "outputs": [],
   "source": [
    "Y=data[['Upvotes']]\n",
    "data.drop(['Upvotes'],axis=1,inplace=True)"
   ]
  },
  {
   "cell_type": "markdown",
   "metadata": {},
   "source": [
    "# Normalization"
   ]
  },
  {
   "cell_type": "code",
   "execution_count": 72,
   "metadata": {},
   "outputs": [
    {
     "data": {
      "text/html": [
       "<div>\n",
       "<style scoped>\n",
       "    .dataframe tbody tr th:only-of-type {\n",
       "        vertical-align: middle;\n",
       "    }\n",
       "\n",
       "    .dataframe tbody tr th {\n",
       "        vertical-align: top;\n",
       "    }\n",
       "\n",
       "    .dataframe thead th {\n",
       "        text-align: right;\n",
       "    }\n",
       "</style>\n",
       "<table border=\"1\" class=\"dataframe\">\n",
       "  <thead>\n",
       "    <tr style=\"text-align: right;\">\n",
       "      <th></th>\n",
       "      <th>Reputation</th>\n",
       "      <th>Answers</th>\n",
       "      <th>Views</th>\n",
       "      <th>Tag_a</th>\n",
       "      <th>Tag_c</th>\n",
       "      <th>Tag_h</th>\n",
       "      <th>Tag_i</th>\n",
       "      <th>Tag_j</th>\n",
       "      <th>Tag_o</th>\n",
       "      <th>Tag_p</th>\n",
       "      <th>Tag_r</th>\n",
       "      <th>Tag_s</th>\n",
       "      <th>Tag_x</th>\n",
       "    </tr>\n",
       "  </thead>\n",
       "  <tbody>\n",
       "    <tr>\n",
       "      <th>0</th>\n",
       "      <td>0.271704</td>\n",
       "      <td>-0.529768</td>\n",
       "      <td>-0.259134</td>\n",
       "      <td>3.068087</td>\n",
       "      <td>-0.530373</td>\n",
       "      <td>-0.257773</td>\n",
       "      <td>-0.329931</td>\n",
       "      <td>-0.529313</td>\n",
       "      <td>-0.21472</td>\n",
       "      <td>-0.389146</td>\n",
       "      <td>-0.197926</td>\n",
       "      <td>-0.275753</td>\n",
       "      <td>-0.146967</td>\n",
       "    </tr>\n",
       "    <tr>\n",
       "      <th>1</th>\n",
       "      <td>1.687020</td>\n",
       "      <td>2.054293</td>\n",
       "      <td>1.087086</td>\n",
       "      <td>3.068087</td>\n",
       "      <td>-0.530373</td>\n",
       "      <td>-0.257773</td>\n",
       "      <td>-0.329931</td>\n",
       "      <td>-0.529313</td>\n",
       "      <td>-0.21472</td>\n",
       "      <td>-0.389146</td>\n",
       "      <td>-0.197926</td>\n",
       "      <td>-0.275753</td>\n",
       "      <td>-0.146967</td>\n",
       "    </tr>\n",
       "    <tr>\n",
       "      <th>2</th>\n",
       "      <td>-0.211093</td>\n",
       "      <td>0.292206</td>\n",
       "      <td>-0.246119</td>\n",
       "      <td>-0.325936</td>\n",
       "      <td>1.885466</td>\n",
       "      <td>-0.257773</td>\n",
       "      <td>-0.329931</td>\n",
       "      <td>-0.529313</td>\n",
       "      <td>-0.21472</td>\n",
       "      <td>-0.389146</td>\n",
       "      <td>-0.197926</td>\n",
       "      <td>-0.275753</td>\n",
       "      <td>-0.146967</td>\n",
       "    </tr>\n",
       "    <tr>\n",
       "      <th>3</th>\n",
       "      <td>-0.687327</td>\n",
       "      <td>-0.072124</td>\n",
       "      <td>0.485773</td>\n",
       "      <td>3.068087</td>\n",
       "      <td>-0.530373</td>\n",
       "      <td>-0.257773</td>\n",
       "      <td>-0.329931</td>\n",
       "      <td>-0.529313</td>\n",
       "      <td>-0.21472</td>\n",
       "      <td>-0.389146</td>\n",
       "      <td>-0.197926</td>\n",
       "      <td>-0.275753</td>\n",
       "      <td>-0.146967</td>\n",
       "    </tr>\n",
       "    <tr>\n",
       "      <th>4</th>\n",
       "      <td>0.315433</td>\n",
       "      <td>0.292206</td>\n",
       "      <td>0.050346</td>\n",
       "      <td>-0.325936</td>\n",
       "      <td>1.885466</td>\n",
       "      <td>-0.257773</td>\n",
       "      <td>-0.329931</td>\n",
       "      <td>-0.529313</td>\n",
       "      <td>-0.21472</td>\n",
       "      <td>-0.389146</td>\n",
       "      <td>-0.197926</td>\n",
       "      <td>-0.275753</td>\n",
       "      <td>-0.146967</td>\n",
       "    </tr>\n",
       "  </tbody>\n",
       "</table>\n",
       "</div>"
      ],
      "text/plain": [
       "   Reputation   Answers     Views     Tag_a     Tag_c     Tag_h     Tag_i  \\\n",
       "0    0.271704 -0.529768 -0.259134  3.068087 -0.530373 -0.257773 -0.329931   \n",
       "1    1.687020  2.054293  1.087086  3.068087 -0.530373 -0.257773 -0.329931   \n",
       "2   -0.211093  0.292206 -0.246119 -0.325936  1.885466 -0.257773 -0.329931   \n",
       "3   -0.687327 -0.072124  0.485773  3.068087 -0.530373 -0.257773 -0.329931   \n",
       "4    0.315433  0.292206  0.050346 -0.325936  1.885466 -0.257773 -0.329931   \n",
       "\n",
       "      Tag_j    Tag_o     Tag_p     Tag_r     Tag_s     Tag_x  \n",
       "0 -0.529313 -0.21472 -0.389146 -0.197926 -0.275753 -0.146967  \n",
       "1 -0.529313 -0.21472 -0.389146 -0.197926 -0.275753 -0.146967  \n",
       "2 -0.529313 -0.21472 -0.389146 -0.197926 -0.275753 -0.146967  \n",
       "3 -0.529313 -0.21472 -0.389146 -0.197926 -0.275753 -0.146967  \n",
       "4 -0.529313 -0.21472 -0.389146 -0.197926 -0.275753 -0.146967  "
      ]
     },
     "execution_count": 72,
     "metadata": {},
     "output_type": "execute_result"
    }
   ],
   "source": [
    "from sklearn.preprocessing import StandardScaler\n",
    "sc=StandardScaler()  #Object is created\n",
    "sc_data=sc.fit_transform(data)\n",
    "sc_data=pd.DataFrame(sc_data)\n",
    "sc_data.columns=data.columns\n",
    "sc_data.head()"
   ]
  },
  {
   "cell_type": "markdown",
   "metadata": {
    "colab_type": "text",
    "id": "VBYx2_y0JHZB"
   },
   "source": [
    "# Splitting into Test & Train"
   ]
  },
  {
   "cell_type": "code",
   "execution_count": 73,
   "metadata": {
    "colab": {
     "base_uri": "https://localhost:8080/",
     "height": 410
    },
    "colab_type": "code",
    "id": "fAhYlVPoJ1TJ",
    "outputId": "9a67702c-9eea-443b-e5b8-2aa522c5c5e1"
   },
   "outputs": [
    {
     "data": {
      "text/html": [
       "<div>\n",
       "<style scoped>\n",
       "    .dataframe tbody tr th:only-of-type {\n",
       "        vertical-align: middle;\n",
       "    }\n",
       "\n",
       "    .dataframe tbody tr th {\n",
       "        vertical-align: top;\n",
       "    }\n",
       "\n",
       "    .dataframe thead th {\n",
       "        text-align: right;\n",
       "    }\n",
       "</style>\n",
       "<table border=\"1\" class=\"dataframe\">\n",
       "  <thead>\n",
       "    <tr style=\"text-align: right;\">\n",
       "      <th></th>\n",
       "      <th>Reputation</th>\n",
       "      <th>Answers</th>\n",
       "      <th>Views</th>\n",
       "      <th>Tag_a</th>\n",
       "      <th>Tag_c</th>\n",
       "      <th>Tag_h</th>\n",
       "      <th>Tag_i</th>\n",
       "      <th>Tag_j</th>\n",
       "      <th>Tag_o</th>\n",
       "      <th>Tag_p</th>\n",
       "      <th>Tag_r</th>\n",
       "      <th>Tag_s</th>\n",
       "      <th>Tag_x</th>\n",
       "    </tr>\n",
       "  </thead>\n",
       "  <tbody>\n",
       "    <tr>\n",
       "      <th>0</th>\n",
       "      <td>0.271704</td>\n",
       "      <td>-0.529768</td>\n",
       "      <td>-0.259134</td>\n",
       "      <td>3.068087</td>\n",
       "      <td>-0.530373</td>\n",
       "      <td>-0.257773</td>\n",
       "      <td>-0.329931</td>\n",
       "      <td>-0.529313</td>\n",
       "      <td>-0.21472</td>\n",
       "      <td>-0.389146</td>\n",
       "      <td>-0.197926</td>\n",
       "      <td>-0.275753</td>\n",
       "      <td>-0.146967</td>\n",
       "    </tr>\n",
       "    <tr>\n",
       "      <th>1</th>\n",
       "      <td>1.687020</td>\n",
       "      <td>2.054293</td>\n",
       "      <td>1.087086</td>\n",
       "      <td>3.068087</td>\n",
       "      <td>-0.530373</td>\n",
       "      <td>-0.257773</td>\n",
       "      <td>-0.329931</td>\n",
       "      <td>-0.529313</td>\n",
       "      <td>-0.21472</td>\n",
       "      <td>-0.389146</td>\n",
       "      <td>-0.197926</td>\n",
       "      <td>-0.275753</td>\n",
       "      <td>-0.146967</td>\n",
       "    </tr>\n",
       "    <tr>\n",
       "      <th>2</th>\n",
       "      <td>-0.211093</td>\n",
       "      <td>0.292206</td>\n",
       "      <td>-0.246119</td>\n",
       "      <td>-0.325936</td>\n",
       "      <td>1.885466</td>\n",
       "      <td>-0.257773</td>\n",
       "      <td>-0.329931</td>\n",
       "      <td>-0.529313</td>\n",
       "      <td>-0.21472</td>\n",
       "      <td>-0.389146</td>\n",
       "      <td>-0.197926</td>\n",
       "      <td>-0.275753</td>\n",
       "      <td>-0.146967</td>\n",
       "    </tr>\n",
       "    <tr>\n",
       "      <th>3</th>\n",
       "      <td>-0.687327</td>\n",
       "      <td>-0.072124</td>\n",
       "      <td>0.485773</td>\n",
       "      <td>3.068087</td>\n",
       "      <td>-0.530373</td>\n",
       "      <td>-0.257773</td>\n",
       "      <td>-0.329931</td>\n",
       "      <td>-0.529313</td>\n",
       "      <td>-0.21472</td>\n",
       "      <td>-0.389146</td>\n",
       "      <td>-0.197926</td>\n",
       "      <td>-0.275753</td>\n",
       "      <td>-0.146967</td>\n",
       "    </tr>\n",
       "    <tr>\n",
       "      <th>4</th>\n",
       "      <td>0.315433</td>\n",
       "      <td>0.292206</td>\n",
       "      <td>0.050346</td>\n",
       "      <td>-0.325936</td>\n",
       "      <td>1.885466</td>\n",
       "      <td>-0.257773</td>\n",
       "      <td>-0.329931</td>\n",
       "      <td>-0.529313</td>\n",
       "      <td>-0.21472</td>\n",
       "      <td>-0.389146</td>\n",
       "      <td>-0.197926</td>\n",
       "      <td>-0.275753</td>\n",
       "      <td>-0.146967</td>\n",
       "    </tr>\n",
       "    <tr>\n",
       "      <th>...</th>\n",
       "      <td>...</td>\n",
       "      <td>...</td>\n",
       "      <td>...</td>\n",
       "      <td>...</td>\n",
       "      <td>...</td>\n",
       "      <td>...</td>\n",
       "      <td>...</td>\n",
       "      <td>...</td>\n",
       "      <td>...</td>\n",
       "      <td>...</td>\n",
       "      <td>...</td>\n",
       "      <td>...</td>\n",
       "      <td>...</td>\n",
       "    </tr>\n",
       "    <tr>\n",
       "      <th>330040</th>\n",
       "      <td>-1.005558</td>\n",
       "      <td>-0.529768</td>\n",
       "      <td>-0.969343</td>\n",
       "      <td>-0.325936</td>\n",
       "      <td>1.885466</td>\n",
       "      <td>-0.257773</td>\n",
       "      <td>-0.329931</td>\n",
       "      <td>-0.529313</td>\n",
       "      <td>-0.21472</td>\n",
       "      <td>-0.389146</td>\n",
       "      <td>-0.197926</td>\n",
       "      <td>-0.275753</td>\n",
       "      <td>-0.146967</td>\n",
       "    </tr>\n",
       "    <tr>\n",
       "      <th>330041</th>\n",
       "      <td>-0.135409</td>\n",
       "      <td>-0.529768</td>\n",
       "      <td>0.379004</td>\n",
       "      <td>-0.325936</td>\n",
       "      <td>1.885466</td>\n",
       "      <td>-0.257773</td>\n",
       "      <td>-0.329931</td>\n",
       "      <td>-0.529313</td>\n",
       "      <td>-0.21472</td>\n",
       "      <td>-0.389146</td>\n",
       "      <td>-0.197926</td>\n",
       "      <td>-0.275753</td>\n",
       "      <td>-0.146967</td>\n",
       "    </tr>\n",
       "    <tr>\n",
       "      <th>330042</th>\n",
       "      <td>0.532599</td>\n",
       "      <td>-0.529768</td>\n",
       "      <td>-0.728456</td>\n",
       "      <td>-0.325936</td>\n",
       "      <td>1.885466</td>\n",
       "      <td>-0.257773</td>\n",
       "      <td>-0.329931</td>\n",
       "      <td>-0.529313</td>\n",
       "      <td>-0.21472</td>\n",
       "      <td>-0.389146</td>\n",
       "      <td>-0.197926</td>\n",
       "      <td>-0.275753</td>\n",
       "      <td>-0.146967</td>\n",
       "    </tr>\n",
       "    <tr>\n",
       "      <th>330043</th>\n",
       "      <td>-0.886693</td>\n",
       "      <td>-0.529768</td>\n",
       "      <td>-0.777393</td>\n",
       "      <td>-0.325936</td>\n",
       "      <td>-0.530373</td>\n",
       "      <td>-0.257773</td>\n",
       "      <td>-0.329931</td>\n",
       "      <td>1.889242</td>\n",
       "      <td>-0.21472</td>\n",
       "      <td>-0.389146</td>\n",
       "      <td>-0.197926</td>\n",
       "      <td>-0.275753</td>\n",
       "      <td>-0.146967</td>\n",
       "    </tr>\n",
       "    <tr>\n",
       "      <th>330044</th>\n",
       "      <td>-0.054957</td>\n",
       "      <td>0.292206</td>\n",
       "      <td>-0.715048</td>\n",
       "      <td>-0.325936</td>\n",
       "      <td>-0.530373</td>\n",
       "      <td>-0.257773</td>\n",
       "      <td>-0.329931</td>\n",
       "      <td>1.889242</td>\n",
       "      <td>-0.21472</td>\n",
       "      <td>-0.389146</td>\n",
       "      <td>-0.197926</td>\n",
       "      <td>-0.275753</td>\n",
       "      <td>-0.146967</td>\n",
       "    </tr>\n",
       "  </tbody>\n",
       "</table>\n",
       "<p>330045 rows × 13 columns</p>\n",
       "</div>"
      ],
      "text/plain": [
       "        Reputation   Answers     Views     Tag_a     Tag_c     Tag_h  \\\n",
       "0         0.271704 -0.529768 -0.259134  3.068087 -0.530373 -0.257773   \n",
       "1         1.687020  2.054293  1.087086  3.068087 -0.530373 -0.257773   \n",
       "2        -0.211093  0.292206 -0.246119 -0.325936  1.885466 -0.257773   \n",
       "3        -0.687327 -0.072124  0.485773  3.068087 -0.530373 -0.257773   \n",
       "4         0.315433  0.292206  0.050346 -0.325936  1.885466 -0.257773   \n",
       "...            ...       ...       ...       ...       ...       ...   \n",
       "330040   -1.005558 -0.529768 -0.969343 -0.325936  1.885466 -0.257773   \n",
       "330041   -0.135409 -0.529768  0.379004 -0.325936  1.885466 -0.257773   \n",
       "330042    0.532599 -0.529768 -0.728456 -0.325936  1.885466 -0.257773   \n",
       "330043   -0.886693 -0.529768 -0.777393 -0.325936 -0.530373 -0.257773   \n",
       "330044   -0.054957  0.292206 -0.715048 -0.325936 -0.530373 -0.257773   \n",
       "\n",
       "           Tag_i     Tag_j    Tag_o     Tag_p     Tag_r     Tag_s     Tag_x  \n",
       "0      -0.329931 -0.529313 -0.21472 -0.389146 -0.197926 -0.275753 -0.146967  \n",
       "1      -0.329931 -0.529313 -0.21472 -0.389146 -0.197926 -0.275753 -0.146967  \n",
       "2      -0.329931 -0.529313 -0.21472 -0.389146 -0.197926 -0.275753 -0.146967  \n",
       "3      -0.329931 -0.529313 -0.21472 -0.389146 -0.197926 -0.275753 -0.146967  \n",
       "4      -0.329931 -0.529313 -0.21472 -0.389146 -0.197926 -0.275753 -0.146967  \n",
       "...          ...       ...      ...       ...       ...       ...       ...  \n",
       "330040 -0.329931 -0.529313 -0.21472 -0.389146 -0.197926 -0.275753 -0.146967  \n",
       "330041 -0.329931 -0.529313 -0.21472 -0.389146 -0.197926 -0.275753 -0.146967  \n",
       "330042 -0.329931 -0.529313 -0.21472 -0.389146 -0.197926 -0.275753 -0.146967  \n",
       "330043 -0.329931  1.889242 -0.21472 -0.389146 -0.197926 -0.275753 -0.146967  \n",
       "330044 -0.329931  1.889242 -0.21472 -0.389146 -0.197926 -0.275753 -0.146967  \n",
       "\n",
       "[330045 rows x 13 columns]"
      ]
     },
     "execution_count": 73,
     "metadata": {},
     "output_type": "execute_result"
    }
   ],
   "source": [
    "X=sc_data\n",
    "X"
   ]
  },
  {
   "cell_type": "code",
   "execution_count": 74,
   "metadata": {
    "colab": {},
    "colab_type": "code",
    "id": "HQb5z3ziJ5va"
   },
   "outputs": [],
   "source": [
    "x_train,x_test,y_train,y_test= train_test_split(X,Y,test_size=0.3,random_state=0)"
   ]
  },
  {
   "cell_type": "markdown",
   "metadata": {
    "colab_type": "text",
    "id": "RUbj3yemKWYt"
   },
   "source": [
    "# Linear Regression"
   ]
  },
  {
   "cell_type": "code",
   "execution_count": 75,
   "metadata": {
    "colab": {
     "base_uri": "https://localhost:8080/",
     "height": 88
    },
    "colab_type": "code",
    "id": "dPluTAx0KZVt",
    "outputId": "483e06f2-aa10-464c-93d5-210c16cf6112"
   },
   "outputs": [
    {
     "name": "stdout",
     "output_type": "stream",
     "text": [
      "Coeff:  [[ 7.07556821e+02 -6.27936833e+01  8.72057837e+02  1.03624943e+14\n",
      "   1.45583128e+14  8.50113080e+13  1.04647223e+14  1.45419662e+14\n",
      "   7.21899416e+13  1.18864638e+14  6.69874278e+13  9.01302499e+13\n",
      "   5.05961751e+13]]\n",
      "Intercept:  [342.81361274]\n"
     ]
    }
   ],
   "source": [
    "reg= LinearRegression()\n",
    "reg=reg.fit(x_train,y_train)\n",
    "print('Coeff: ',reg.coef_)\n",
    "print('Intercept: ',reg.intercept_)"
   ]
  },
  {
   "cell_type": "code",
   "execution_count": 76,
   "metadata": {
    "colab": {},
    "colab_type": "code",
    "id": "qCjH7qs1KiuD"
   },
   "outputs": [],
   "source": [
    "y_pred=reg.predict(x_test)"
   ]
  },
  {
   "cell_type": "code",
   "execution_count": 77,
   "metadata": {
    "colab": {
     "base_uri": "https://localhost:8080/",
     "height": 52
    },
    "colab_type": "code",
    "id": "ANOUvayoKrSJ",
    "outputId": "623cc88b-f8dc-4c7e-9b09-ab127f77835a"
   },
   "outputs": [
    {
     "name": "stdout",
     "output_type": "stream",
     "text": [
      "RMSE= 2435.4169209516326\n",
      "Regressor Score = 0.1409812536401932\n"
     ]
    }
   ],
   "source": [
    "rmse= np.sqrt(mean_squared_error(y_test,y_pred))\n",
    "print('RMSE=',rmse)\n",
    "lin_r2= r2_score(y_test,y_pred)\n",
    "print(\"Regressor Score =\",lin_r2)"
   ]
  },
  {
   "cell_type": "code",
   "execution_count": 78,
   "metadata": {
    "colab": {
     "base_uri": "https://localhost:8080/",
     "height": 299
    },
    "colab_type": "code",
    "id": "0kOm5x5CKz6r",
    "outputId": "91210e04-6d54-408f-caa6-ddb5a6b9b273"
   },
   "outputs": [
    {
     "data": {
      "text/plain": [
       "Text(0.5, 1.0, 'Residual Plot')"
      ]
     },
     "execution_count": 78,
     "metadata": {},
     "output_type": "execute_result"
    },
    {
     "data": {
      "image/png": "[encoded data removed]",
      "text/plain": [
       "<Figure size 432x288 with 1 Axes>"
      ]
     },
     "metadata": {
      "needs_background": "light"
     },
     "output_type": "display_data"
    }
   ],
   "source": [
    "#Residual Plot\n",
    "\n",
    "x=[i for i in range(1,len(y_pred)+1)]\n",
    "\n",
    "x_plot= plt.scatter(x,(y_test-y_pred),color='magenta')\n",
    "plt.axhline(y=0,color='black')  #plt.plot(x,[0]*len(y_pred),color='black')  \n",
    "plt.title('Residual Plot')"
   ]
  },
  {
   "cell_type": "markdown",
   "metadata": {
    "colab_type": "text",
    "id": "ZmC1Jx2ALIXo"
   },
   "source": [
    "# Ridge Regression"
   ]
  },
  {
   "cell_type": "code",
   "execution_count": 79,
   "metadata": {
    "colab": {
     "base_uri": "https://localhost:8080/",
     "height": 88
    },
    "colab_type": "code",
    "id": "XZKW32iCLFTy",
    "outputId": "0fdbb0e1-d3cf-440d-db32-0a1f6348b6e1"
   },
   "outputs": [
    {
     "name": "stdout",
     "output_type": "stream",
     "text": [
      "Ridge Regression Coeff:  [[645.3935002   11.11976805 757.56990261 -20.85035673 -25.24676126\n",
      "   22.32523773  -6.29353874 -11.45341763   1.13779986   6.38202276\n",
      "   39.97865917  22.78754558  13.47818979]]\n",
      "Ridge Regression Intercept:  [342.85161865]\n"
     ]
    }
   ],
   "source": [
    "ridgeReg= Ridge(alpha=0.1, normalize=True)\n",
    "ridgeReg.fit(x_train,y_train)\n",
    "print('Ridge Regression Coeff: ',ridgeReg.coef_)\n",
    "print('Ridge Regression Intercept: ',ridgeReg.intercept_)"
   ]
  },
  {
   "cell_type": "code",
   "execution_count": 80,
   "metadata": {
    "colab": {},
    "colab_type": "code",
    "id": "EEPwp4l8LO-R"
   },
   "outputs": [],
   "source": [
    "y_pred=ridgeReg.predict(x_test)"
   ]
  },
  {
   "cell_type": "code",
   "execution_count": 81,
   "metadata": {
    "colab": {
     "base_uri": "https://localhost:8080/",
     "height": 52
    },
    "colab_type": "code",
    "id": "GZ2RYikWLRni",
    "outputId": "98b44acc-2d7f-4f0a-a4e9-ff81f93e2a5c"
   },
   "outputs": [
    {
     "name": "stdout",
     "output_type": "stream",
     "text": [
      "RMSE= 2431.901137335947\n",
      "Regressor Score = 0.14345963347960644\n"
     ]
    }
   ],
   "source": [
    "rmse= np.sqrt(mean_squared_error(y_test,y_pred))\n",
    "print('RMSE=',rmse)\n",
    "ridge_r2= r2_score(y_test,y_pred)\n",
    "print(\"Regressor Score =\",ridge_r2)"
   ]
  },
  {
   "cell_type": "markdown",
   "metadata": {
    "colab_type": "text",
    "id": "mcvQv1sMLd1H"
   },
   "source": [
    "# Lasso Regression"
   ]
  },
  {
   "cell_type": "code",
   "execution_count": 82,
   "metadata": {
    "colab": {
     "base_uri": "https://localhost:8080/",
     "height": 52
    },
    "colab_type": "code",
    "id": "y20acLe8Lblg",
    "outputId": "edbccd19-81c0-4d90-b49d-45df5a44a395"
   },
   "outputs": [
    {
     "name": "stdout",
     "output_type": "stream",
     "text": [
      "Lasso Regression Coeff:  [678.87803252  -4.88488312 810.11486278  -0.          -4.79465712\n",
      "   4.86734982  -0.          -0.           0.           0.\n",
      "  26.91180533   7.78683005   0.        ]\n",
      "Lasso Regression Intercept:  [342.85124364]\n"
     ]
    }
   ],
   "source": [
    "lassoReg= Lasso(alpha=0.05, normalize= True)  \n",
    "lassoReg.fit(x_train,y_train)\n",
    "print('Lasso Regression Coeff: ',lassoReg.coef_)\n",
    "print('Lasso Regression Intercept: ',lassoReg.intercept_)"
   ]
  },
  {
   "cell_type": "code",
   "execution_count": 83,
   "metadata": {
    "colab": {},
    "colab_type": "code",
    "id": "4dsXl-ioLi-F"
   },
   "outputs": [],
   "source": [
    "y_pred=lassoReg.predict(x_test)"
   ]
  },
  {
   "cell_type": "code",
   "execution_count": 84,
   "metadata": {
    "colab": {
     "base_uri": "https://localhost:8080/",
     "height": 52
    },
    "colab_type": "code",
    "id": "O1pkszUILmK7",
    "outputId": "5cdaa319-8db7-42a6-87ff-c10a5c60555b"
   },
   "outputs": [
    {
     "name": "stdout",
     "output_type": "stream",
     "text": [
      "RMSE= 2434.391418614869\n",
      "Regressor Score = 0.14170453042667008\n"
     ]
    }
   ],
   "source": [
    "rmse= np.sqrt(mean_squared_error(y_test,y_pred))\n",
    "print('RMSE=',rmse)\n",
    "lasso_r2= r2_score(y_test,y_pred)\n",
    "print(\"Regressor Score =\",lasso_r2)"
   ]
  },
  {
   "cell_type": "markdown",
   "metadata": {
    "colab_type": "text",
    "id": "MnilSpv3Lp18"
   },
   "source": [
    "# Random Forest Regressor"
   ]
  },
  {
   "cell_type": "code",
   "execution_count": 85,
   "metadata": {
    "colab": {
     "base_uri": "https://localhost:8080/",
     "height": 108
    },
    "colab_type": "code",
    "id": "NMXfz5YoLoc6",
    "outputId": "b9cd7695-1a95-4654-df13-43c6d41bd51f"
   },
   "outputs": [
    {
     "name": "stderr",
     "output_type": "stream",
     "text": [
      "C:\\Users\\Arpitha Ananth\\Anaconda3\\lib\\site-packages\\sklearn\\ensemble\\forest.py:245: FutureWarning: The default value of n_estimators will change from 10 in version 0.20 to 100 in 0.22.\n",
      "  \"10 in version 0.20 to 100 in 0.22.\", FutureWarning)\n",
      "C:\\Users\\Arpitha Ananth\\Anaconda3\\lib\\site-packages\\ipykernel_launcher.py:2: DataConversionWarning: A column-vector y was passed when a 1d array was expected. Please change the shape of y to (n_samples,), for example using ravel().\n",
      "  \n"
     ]
    }
   ],
   "source": [
    "rfReg=RandomForestRegressor()\n",
    "rfReg.fit(x_train,y_train)\n",
    "y_pred= rfReg.predict(x_test)"
   ]
  },
  {
   "cell_type": "code",
   "execution_count": 86,
   "metadata": {
    "colab": {
     "base_uri": "https://localhost:8080/",
     "height": 52
    },
    "colab_type": "code",
    "id": "pGvqljDuLwZJ",
    "outputId": "8a3bf7b1-af2a-4612-a924-3bda10d90980"
   },
   "outputs": [
    {
     "name": "stdout",
     "output_type": "stream",
     "text": [
      "RMSE= 839.5913998071231\n",
      "Regressor Score = 0.897907940263454\n"
     ]
    }
   ],
   "source": [
    "rmse= np.sqrt(mean_squared_error(y_test,y_pred))\n",
    "print('RMSE=',rmse)\n",
    "RF_r2= r2_score(y_test,y_pred)\n",
    "print(\"Regressor Score =\",RF_r2)"
   ]
  },
  {
   "cell_type": "markdown",
   "metadata": {
    "colab_type": "text",
    "id": "Ui5tdyw3L1ni"
   },
   "source": [
    "# AdaBoostRegressor"
   ]
  },
  {
   "cell_type": "code",
   "execution_count": 87,
   "metadata": {
    "colab": {
     "base_uri": "https://localhost:8080/",
     "height": 72
    },
    "colab_type": "code",
    "id": "b7wPsSq1L0JT",
    "outputId": "6d2b3508-92ab-413e-db3d-9079f8b44a2f"
   },
   "outputs": [
    {
     "name": "stderr",
     "output_type": "stream",
     "text": [
      "C:\\Users\\Arpitha Ananth\\Anaconda3\\lib\\site-packages\\sklearn\\utils\\validation.py:724: DataConversionWarning: A column-vector y was passed when a 1d array was expected. Please change the shape of y to (n_samples, ), for example using ravel().\n",
      "  y = column_or_1d(y, warn=True)\n"
     ]
    }
   ],
   "source": [
    "AdaBoostReg= AdaBoostRegressor(n_estimators=20)\n",
    "AdaBoostReg.fit(x_train,y_train)\n",
    "y_pred= AdaBoostReg.predict(x_test)"
   ]
  },
  {
   "cell_type": "code",
   "execution_count": 88,
   "metadata": {
    "colab": {
     "base_uri": "https://localhost:8080/",
     "height": 52
    },
    "colab_type": "code",
    "id": "zhOFyeZEL80a",
    "outputId": "4955f0c5-cbf0-4979-96cf-f4c8167aaa1c"
   },
   "outputs": [
    {
     "name": "stdout",
     "output_type": "stream",
     "text": [
      "RMSE= 1663.371697160471\n",
      "Regressor Score = 0.5992859054826024\n"
     ]
    }
   ],
   "source": [
    "rmse= np.sqrt(mean_squared_error(y_test,y_pred))\n",
    "print('RMSE=',rmse)\n",
    "Ada_r2= r2_score(y_test,y_pred)\n",
    "print(\"Regressor Score =\",Ada_r2)"
   ]
  },
  {
   "cell_type": "markdown",
   "metadata": {
    "colab_type": "text",
    "id": "dSepZPUgMGLs"
   },
   "source": [
    "# Bagging Regressor"
   ]
  },
  {
   "cell_type": "code",
   "execution_count": 89,
   "metadata": {
    "colab": {
     "base_uri": "https://localhost:8080/",
     "height": 72
    },
    "colab_type": "code",
    "id": "ZERP-TbTMFSW",
    "outputId": "b1699d9c-710a-4630-9ece-23bb6e102488"
   },
   "outputs": [
    {
     "name": "stderr",
     "output_type": "stream",
     "text": [
      "C:\\Users\\Arpitha Ananth\\Anaconda3\\lib\\site-packages\\sklearn\\ensemble\\bagging.py:398: DataConversionWarning: A column-vector y was passed when a 1d array was expected. Please change the shape of y to (n_samples, ), for example using ravel().\n",
      "  return column_or_1d(y, warn=True)\n"
     ]
    }
   ],
   "source": [
    "BagReg= BaggingRegressor()\n",
    "BagReg.fit(x_train,y_train)\n",
    "y_pred=BagReg.predict(x_test)"
   ]
  },
  {
   "cell_type": "code",
   "execution_count": 90,
   "metadata": {
    "colab": {
     "base_uri": "https://localhost:8080/",
     "height": 52
    },
    "colab_type": "code",
    "id": "jaJQJKASMMYF",
    "outputId": "a5f2bc81-ce05-4ac3-af1b-3c0d8e35cf31"
   },
   "outputs": [
    {
     "name": "stdout",
     "output_type": "stream",
     "text": [
      "RMSE= 966.093865400653\n",
      "Regressor Score = 0.8648255372780134\n"
     ]
    }
   ],
   "source": [
    "rmse= np.sqrt(mean_squared_error(y_test,y_pred))\n",
    "print('RMSE=',rmse)\n",
    "Bag_r2= r2_score(y_test,y_pred)\n",
    "print(\"Regressor Score =\",Bag_r2)"
   ]
  },
  {
   "cell_type": "markdown",
   "metadata": {
    "colab_type": "text",
    "id": "So5exMsEOAii"
   },
   "source": [
    "# Bayesian Ridge"
   ]
  },
  {
   "cell_type": "code",
   "execution_count": 91,
   "metadata": {
    "colab": {
     "base_uri": "https://localhost:8080/",
     "height": 72
    },
    "colab_type": "code",
    "id": "zXUmLM3yMZ3O",
    "outputId": "d12869de-49fe-4eb6-8779-3f4a9a8ae669"
   },
   "outputs": [
    {
     "name": "stderr",
     "output_type": "stream",
     "text": [
      "C:\\Users\\Arpitha Ananth\\Anaconda3\\lib\\site-packages\\sklearn\\utils\\validation.py:724: DataConversionWarning: A column-vector y was passed when a 1d array was expected. Please change the shape of y to (n_samples, ), for example using ravel().\n",
      "  y = column_or_1d(y, warn=True)\n"
     ]
    }
   ],
   "source": [
    "BayRidge= BayesianRidge()\n",
    "BayRidge.fit(x_train,y_train)\n",
    "y_pred=BayRidge.predict(x_test)"
   ]
  },
  {
   "cell_type": "code",
   "execution_count": 92,
   "metadata": {
    "colab": {
     "base_uri": "https://localhost:8080/",
     "height": 52
    },
    "colab_type": "code",
    "id": "3MWV5YaWNnL6",
    "outputId": "56c63a29-09e4-4119-98b8-466149c168c2"
   },
   "outputs": [
    {
     "name": "stdout",
     "output_type": "stream",
     "text": [
      "RMSE= 2435.376771422158\n",
      "Regressor Score = 0.14100957644101675\n"
     ]
    }
   ],
   "source": [
    "rmse= np.sqrt(mean_squared_error(y_test,y_pred))\n",
    "print('RMSE=',rmse)\n",
    "Bay_r2= r2_score(y_test,y_pred)\n",
    "print(\"Regressor Score =\",Bay_r2)"
   ]
  },
  {
   "cell_type": "markdown",
   "metadata": {
    "colab_type": "text",
    "id": "GOXs32FdOTW_"
   },
   "source": [
    "# Huber Regression"
   ]
  },
  {
   "cell_type": "code",
   "execution_count": 93,
   "metadata": {
    "colab": {
     "base_uri": "https://localhost:8080/",
     "height": 72
    },
    "colab_type": "code",
    "id": "_wcJB-60OSUi",
    "outputId": "f668efd6-9abf-4552-a4a9-fd938278f7d3"
   },
   "outputs": [
    {
     "name": "stderr",
     "output_type": "stream",
     "text": [
      "C:\\Users\\Arpitha Ananth\\Anaconda3\\lib\\site-packages\\sklearn\\utils\\validation.py:724: DataConversionWarning: A column-vector y was passed when a 1d array was expected. Please change the shape of y to (n_samples, ), for example using ravel().\n",
      "  y = column_or_1d(y, warn=True)\n"
     ]
    }
   ],
   "source": [
    "hubReg= HuberRegressor()\n",
    "hubReg.fit(x_train,y_train)\n",
    "y_pred= hubReg.predict(x_test)"
   ]
  },
  {
   "cell_type": "code",
   "execution_count": 94,
   "metadata": {
    "colab": {
     "base_uri": "https://localhost:8080/",
     "height": 52
    },
    "colab_type": "code",
    "id": "opq-3cbHOhAc",
    "outputId": "ac836437-f0be-495d-a672-f7f9b5900b6a"
   },
   "outputs": [
    {
     "name": "stdout",
     "output_type": "stream",
     "text": [
      "RMSE= 2597.406070788133\n",
      "Regressor Score = 0.022907441374019677\n"
     ]
    }
   ],
   "source": [
    "rmse= np.sqrt(mean_squared_error(y_test,y_pred))\n",
    "print('RMSE=',rmse)\n",
    "Hub_r2= r2_score(y_test,y_pred)\n",
    "print(\"Regressor Score =\",Hub_r2)"
   ]
  },
  {
   "cell_type": "markdown",
   "metadata": {},
   "source": [
    "## Model Comparison"
   ]
  },
  {
   "cell_type": "code",
   "execution_count": 111,
   "metadata": {},
   "outputs": [
    {
     "data": {
      "text/html": [
       "<div>\n",
       "<style scoped>\n",
       "    .dataframe tbody tr th:only-of-type {\n",
       "        vertical-align: middle;\n",
       "    }\n",
       "\n",
       "    .dataframe tbody tr th {\n",
       "        vertical-align: top;\n",
       "    }\n",
       "\n",
       "    .dataframe thead th {\n",
       "        text-align: right;\n",
       "    }\n",
       "</style>\n",
       "<table border=\"1\" class=\"dataframe\">\n",
       "  <thead>\n",
       "    <tr style=\"text-align: right;\">\n",
       "      <th></th>\n",
       "      <th>Regressor Score</th>\n",
       "    </tr>\n",
       "  </thead>\n",
       "  <tbody>\n",
       "    <tr>\n",
       "      <th>Linear</th>\n",
       "      <td>0.140981</td>\n",
       "    </tr>\n",
       "    <tr>\n",
       "      <th>Ridge</th>\n",
       "      <td>0.143460</td>\n",
       "    </tr>\n",
       "    <tr>\n",
       "      <th>Lasso</th>\n",
       "      <td>0.141705</td>\n",
       "    </tr>\n",
       "    <tr>\n",
       "      <th>RandomForest</th>\n",
       "      <td>0.897908</td>\n",
       "    </tr>\n",
       "    <tr>\n",
       "      <th>AdaBoost</th>\n",
       "      <td>0.599286</td>\n",
       "    </tr>\n",
       "    <tr>\n",
       "      <th>Bagging</th>\n",
       "      <td>0.864826</td>\n",
       "    </tr>\n",
       "    <tr>\n",
       "      <th>Bayesian</th>\n",
       "      <td>0.141010</td>\n",
       "    </tr>\n",
       "    <tr>\n",
       "      <th>Huber</th>\n",
       "      <td>0.022907</td>\n",
       "    </tr>\n",
       "  </tbody>\n",
       "</table>\n",
       "</div>"
      ],
      "text/plain": [
       "              Regressor Score\n",
       "Linear               0.140981\n",
       "Ridge                0.143460\n",
       "Lasso                0.141705\n",
       "RandomForest         0.897908\n",
       "AdaBoost             0.599286\n",
       "Bagging              0.864826\n",
       "Bayesian             0.141010\n",
       "Huber                0.022907"
      ]
     },
     "execution_count": 111,
     "metadata": {},
     "output_type": "execute_result"
    }
   ],
   "source": [
    "Model_comparison=pd.DataFrame([lin_r2,ridge_r2,lasso_r2,RF_r2,Ada_r2,Bag_r2,Bay_r2,Hub_r2],['Linear','Ridge','Lasso','RandomForest','AdaBoost','Bagging','Bayesian','Huber'])\n",
    "Model_comparison.columns=['Regressor Score']\n",
    "Model_comparison"
   ]
  },
  {
   "cell_type": "code",
   "execution_count": 114,
   "metadata": {},
   "outputs": [
    {
     "data": {
      "text/plain": [
       "Text(0.5, 1.0, 'Model Comparison')"
      ]
     },
     "execution_count": 114,
     "metadata": {},
     "output_type": "execute_result"
    },
    {
     "data": {
      "image/png": "[encoded data removed]",
      "text/plain": [
       "<Figure size 720x432 with 1 Axes>"
      ]
     },
     "metadata": {
      "needs_background": "light"
     },
     "output_type": "display_data"
    }
   ],
   "source": [
    "plt.figure(figsize=(10,6))\n",
    "plt.bar(Model_comparison.index,Model_comparison['Regressor Score'])\n",
    "plt.xlabel('Regressors')\n",
    "plt.ylabel('Score')\n",
    "plt.title('Model Comparison')"
   ]
  },
  {
   "cell_type": "markdown",
   "metadata": {
    "colab_type": "text",
    "id": "TtkRErBWOk_g"
   },
   "source": [
    "#### After checking all the models we have got the best accuracy with RandomForest Regressor, hence we will predict the number of Upvotes using RandomForest Regressor"
   ]
  },
  {
   "cell_type": "code",
   "execution_count": 97,
   "metadata": {
    "colab": {},
    "colab_type": "code",
    "id": "kQvQHau4O8Gi"
   },
   "outputs": [],
   "source": [
    "test= pd.read_csv(\"test_8i3B3FC.csv\")"
   ]
  },
  {
   "cell_type": "code",
   "execution_count": 98,
   "metadata": {
    "colab": {
     "base_uri": "https://localhost:8080/",
     "height": 199
    },
    "colab_type": "code",
    "id": "o4gR03FEQF70",
    "outputId": "cde60e6c-2b8c-4161-d50e-a6b3ff1a22bb"
   },
   "outputs": [
    {
     "data": {
      "text/html": [
       "<div>\n",
       "<style scoped>\n",
       "    .dataframe tbody tr th:only-of-type {\n",
       "        vertical-align: middle;\n",
       "    }\n",
       "\n",
       "    .dataframe tbody tr th {\n",
       "        vertical-align: top;\n",
       "    }\n",
       "\n",
       "    .dataframe thead th {\n",
       "        text-align: right;\n",
       "    }\n",
       "</style>\n",
       "<table border=\"1\" class=\"dataframe\">\n",
       "  <thead>\n",
       "    <tr style=\"text-align: right;\">\n",
       "      <th></th>\n",
       "      <th>ID</th>\n",
       "      <th>Tag</th>\n",
       "      <th>Reputation</th>\n",
       "      <th>Answers</th>\n",
       "      <th>Username</th>\n",
       "      <th>Views</th>\n",
       "    </tr>\n",
       "  </thead>\n",
       "  <tbody>\n",
       "    <tr>\n",
       "      <th>0</th>\n",
       "      <td>366953</td>\n",
       "      <td>a</td>\n",
       "      <td>5645.0</td>\n",
       "      <td>3.0</td>\n",
       "      <td>50652</td>\n",
       "      <td>33200.0</td>\n",
       "    </tr>\n",
       "    <tr>\n",
       "      <th>1</th>\n",
       "      <td>71864</td>\n",
       "      <td>c</td>\n",
       "      <td>24511.0</td>\n",
       "      <td>6.0</td>\n",
       "      <td>37685</td>\n",
       "      <td>2730.0</td>\n",
       "    </tr>\n",
       "    <tr>\n",
       "      <th>2</th>\n",
       "      <td>141692</td>\n",
       "      <td>i</td>\n",
       "      <td>927.0</td>\n",
       "      <td>1.0</td>\n",
       "      <td>135293</td>\n",
       "      <td>21167.0</td>\n",
       "    </tr>\n",
       "    <tr>\n",
       "      <th>3</th>\n",
       "      <td>316833</td>\n",
       "      <td>i</td>\n",
       "      <td>21.0</td>\n",
       "      <td>6.0</td>\n",
       "      <td>166998</td>\n",
       "      <td>18528.0</td>\n",
       "    </tr>\n",
       "    <tr>\n",
       "      <th>4</th>\n",
       "      <td>440445</td>\n",
       "      <td>i</td>\n",
       "      <td>4475.0</td>\n",
       "      <td>10.0</td>\n",
       "      <td>53504</td>\n",
       "      <td>57240.0</td>\n",
       "    </tr>\n",
       "  </tbody>\n",
       "</table>\n",
       "</div>"
      ],
      "text/plain": [
       "       ID Tag  Reputation  Answers  Username    Views\n",
       "0  366953   a      5645.0      3.0     50652  33200.0\n",
       "1   71864   c     24511.0      6.0     37685   2730.0\n",
       "2  141692   i       927.0      1.0    135293  21167.0\n",
       "3  316833   i        21.0      6.0    166998  18528.0\n",
       "4  440445   i      4475.0     10.0     53504  57240.0"
      ]
     },
     "execution_count": 98,
     "metadata": {},
     "output_type": "execute_result"
    }
   ],
   "source": [
    "test.head()"
   ]
  },
  {
   "cell_type": "code",
   "execution_count": 99,
   "metadata": {
    "colab": {},
    "colab_type": "code",
    "id": "uAywFhokQHg4"
   },
   "outputs": [],
   "source": [
    "test.drop(['ID','Username'],axis=1,inplace=True)"
   ]
  },
  {
   "cell_type": "code",
   "execution_count": 100,
   "metadata": {
    "colab": {
     "base_uri": "https://localhost:8080/",
     "height": 88
    },
    "colab_type": "code",
    "id": "SdbGlkLKQNm0",
    "outputId": "b4625e45-6e6b-479d-f270-262a8ccd293a"
   },
   "outputs": [
    {
     "data": {
      "text/plain": [
       "Reputation    11.318536\n",
       "Answers        3.398091\n",
       "Views         13.532848\n",
       "dtype: float64"
      ]
     },
     "execution_count": 100,
     "metadata": {},
     "output_type": "execute_result"
    }
   ],
   "source": [
    "test.skew()"
   ]
  },
  {
   "cell_type": "code",
   "execution_count": 101,
   "metadata": {
    "colab": {},
    "colab_type": "code",
    "id": "rYWpfPEWQPpo"
   },
   "outputs": [],
   "source": [
    "test['Reputation']=(test['Reputation'])**(1/3)\n",
    "test['Answers']=(test['Answers'])**(1/3)\n",
    "test['Views']=(test['Views'])**(1/3)"
   ]
  },
  {
   "cell_type": "code",
   "execution_count": 102,
   "metadata": {
    "colab": {
     "base_uri": "https://localhost:8080/",
     "height": 88
    },
    "colab_type": "code",
    "id": "Nhw7yyn5Qgrj",
    "outputId": "471a23e3-ffd9-440a-b798-19737b0f6662"
   },
   "outputs": [
    {
     "data": {
      "text/plain": [
       "Reputation    1.872914\n",
       "Answers       0.551302\n",
       "Views         1.498699\n",
       "dtype: float64"
      ]
     },
     "execution_count": 102,
     "metadata": {},
     "output_type": "execute_result"
    }
   ],
   "source": [
    "test.skew()"
   ]
  },
  {
   "cell_type": "code",
   "execution_count": 103,
   "metadata": {
    "colab": {
     "base_uri": "https://localhost:8080/",
     "height": 199
    },
    "colab_type": "code",
    "id": "R8kCPKCKQiIx",
    "outputId": "360dfcf8-2d4f-419c-daae-bd60e7e375f5"
   },
   "outputs": [
    {
     "data": {
      "text/html": [
       "<div>\n",
       "<style scoped>\n",
       "    .dataframe tbody tr th:only-of-type {\n",
       "        vertical-align: middle;\n",
       "    }\n",
       "\n",
       "    .dataframe tbody tr th {\n",
       "        vertical-align: top;\n",
       "    }\n",
       "\n",
       "    .dataframe thead th {\n",
       "        text-align: right;\n",
       "    }\n",
       "</style>\n",
       "<table border=\"1\" class=\"dataframe\">\n",
       "  <thead>\n",
       "    <tr style=\"text-align: right;\">\n",
       "      <th></th>\n",
       "      <th>Reputation</th>\n",
       "      <th>Answers</th>\n",
       "      <th>Views</th>\n",
       "      <th>Tag_a</th>\n",
       "      <th>Tag_c</th>\n",
       "      <th>Tag_h</th>\n",
       "      <th>Tag_i</th>\n",
       "      <th>Tag_j</th>\n",
       "      <th>Tag_o</th>\n",
       "      <th>Tag_p</th>\n",
       "      <th>Tag_r</th>\n",
       "      <th>Tag_s</th>\n",
       "      <th>Tag_x</th>\n",
       "    </tr>\n",
       "  </thead>\n",
       "  <tbody>\n",
       "    <tr>\n",
       "      <th>0</th>\n",
       "      <td>17.805519</td>\n",
       "      <td>1.442250</td>\n",
       "      <td>32.140012</td>\n",
       "      <td>1</td>\n",
       "      <td>0</td>\n",
       "      <td>0</td>\n",
       "      <td>0</td>\n",
       "      <td>0</td>\n",
       "      <td>0</td>\n",
       "      <td>0</td>\n",
       "      <td>0</td>\n",
       "      <td>0</td>\n",
       "      <td>0</td>\n",
       "    </tr>\n",
       "    <tr>\n",
       "      <th>1</th>\n",
       "      <td>29.048275</td>\n",
       "      <td>1.817121</td>\n",
       "      <td>13.976150</td>\n",
       "      <td>0</td>\n",
       "      <td>1</td>\n",
       "      <td>0</td>\n",
       "      <td>0</td>\n",
       "      <td>0</td>\n",
       "      <td>0</td>\n",
       "      <td>0</td>\n",
       "      <td>0</td>\n",
       "      <td>0</td>\n",
       "      <td>0</td>\n",
       "    </tr>\n",
       "    <tr>\n",
       "      <th>2</th>\n",
       "      <td>9.750493</td>\n",
       "      <td>1.000000</td>\n",
       "      <td>27.662182</td>\n",
       "      <td>0</td>\n",
       "      <td>0</td>\n",
       "      <td>0</td>\n",
       "      <td>1</td>\n",
       "      <td>0</td>\n",
       "      <td>0</td>\n",
       "      <td>0</td>\n",
       "      <td>0</td>\n",
       "      <td>0</td>\n",
       "      <td>0</td>\n",
       "    </tr>\n",
       "    <tr>\n",
       "      <th>3</th>\n",
       "      <td>2.758924</td>\n",
       "      <td>1.817121</td>\n",
       "      <td>26.461199</td>\n",
       "      <td>0</td>\n",
       "      <td>0</td>\n",
       "      <td>0</td>\n",
       "      <td>1</td>\n",
       "      <td>0</td>\n",
       "      <td>0</td>\n",
       "      <td>0</td>\n",
       "      <td>0</td>\n",
       "      <td>0</td>\n",
       "      <td>0</td>\n",
       "    </tr>\n",
       "    <tr>\n",
       "      <th>4</th>\n",
       "      <td>16.479006</td>\n",
       "      <td>2.154435</td>\n",
       "      <td>38.538950</td>\n",
       "      <td>0</td>\n",
       "      <td>0</td>\n",
       "      <td>0</td>\n",
       "      <td>1</td>\n",
       "      <td>0</td>\n",
       "      <td>0</td>\n",
       "      <td>0</td>\n",
       "      <td>0</td>\n",
       "      <td>0</td>\n",
       "      <td>0</td>\n",
       "    </tr>\n",
       "  </tbody>\n",
       "</table>\n",
       "</div>"
      ],
      "text/plain": [
       "   Reputation   Answers      Views  Tag_a  Tag_c  Tag_h  Tag_i  Tag_j  Tag_o  \\\n",
       "0   17.805519  1.442250  32.140012      1      0      0      0      0      0   \n",
       "1   29.048275  1.817121  13.976150      0      1      0      0      0      0   \n",
       "2    9.750493  1.000000  27.662182      0      0      0      1      0      0   \n",
       "3    2.758924  1.817121  26.461199      0      0      0      1      0      0   \n",
       "4   16.479006  2.154435  38.538950      0      0      0      1      0      0   \n",
       "\n",
       "   Tag_p  Tag_r  Tag_s  Tag_x  \n",
       "0      0      0      0      0  \n",
       "1      0      0      0      0  \n",
       "2      0      0      0      0  \n",
       "3      0      0      0      0  \n",
       "4      0      0      0      0  "
      ]
     },
     "execution_count": 103,
     "metadata": {},
     "output_type": "execute_result"
    }
   ],
   "source": [
    "test=pd.get_dummies(test)\n",
    "test.head()"
   ]
  },
  {
   "cell_type": "code",
   "execution_count": 104,
   "metadata": {},
   "outputs": [],
   "source": [
    "test=sc.fit_transform(test)"
   ]
  },
  {
   "cell_type": "code",
   "execution_count": 106,
   "metadata": {
    "colab": {},
    "colab_type": "code",
    "id": "B6gM6RzOQvW1"
   },
   "outputs": [],
   "source": [
    "prediction= rfReg.predict(test)"
   ]
  },
  {
   "cell_type": "code",
   "execution_count": 107,
   "metadata": {
    "colab": {},
    "colab_type": "code",
    "id": "JVMPHVBKRjrU"
   },
   "outputs": [],
   "source": [
    "pred=pd.DataFrame(prediction)"
   ]
  },
  {
   "cell_type": "code",
   "execution_count": 108,
   "metadata": {
    "colab": {
     "base_uri": "https://localhost:8080/",
     "height": 410
    },
    "colab_type": "code",
    "id": "Q8bLddHnQ9FC",
    "outputId": "a008b3ea-f7ba-4480-9aac-3b719c71145a"
   },
   "outputs": [],
   "source": [
    "test= pd.read_csv(\"test_8i3B3FC.csv\")\n",
    "Submission1=pd.concat((test['ID'],pred),axis=1)\n",
    "Submission1.columns=['ID','Upvotes']\n",
    "Submission1.set_index(['ID'],inplace=True)"
   ]
  },
  {
   "cell_type": "code",
   "execution_count": 109,
   "metadata": {
    "colab": {},
    "colab_type": "code",
    "id": "rfPetnQpSNqu"
   },
   "outputs": [],
   "source": [
    "Submission1.to_csv(\"Submission1.csv\")"
   ]
  }
 ],
 "metadata": {
  "colab": {
   "collapsed_sections": [],
   "name": "Upvote_Scratch1_Bgg.ipynb",
   "provenance": []
  },
  "kernelspec": {
   "display_name": "Python 3",
   "language": "python",
   "name": "python3"
  },
  "language_info": {
   "codemirror_mode": {
    "name": "ipython",
    "version": 3
   },
   "file_extension": ".py",
   "mimetype": "text/x-python",
   "name": "python",
   "nbconvert_exporter": "python",
   "pygments_lexer": "ipython3",
   "version": "3.7.3"
  }
 },
 "nbformat": 4,
 "nbformat_minor": 1
}
